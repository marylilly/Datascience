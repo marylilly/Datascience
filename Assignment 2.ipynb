{
 "cells": [
  {
   "cell_type": "raw",
   "id": "e2d4bceb",
   "metadata": {},
   "source": [
    "1.What are the two values of the Boolean data type? How do you write them?\n",
    "   There are two Boolean values: True and False\n",
    "   A Boolean value can be written using one of the three options: true or false, yes or no, 1 or 0\n"
   ]
  },
  {
   "cell_type": "raw",
   "id": "aa248d13",
   "metadata": {},
   "source": [
    "2. What are the three different types of Boolean operators?\n",
    "    Boolean operators are and , or and not\n"
   ]
  },
  {
   "cell_type": "raw",
   "id": "97a25275",
   "metadata": {},
   "source": [
    "3. Make a list of each Boolean operator's truth tables (i.e. every possible combination of Boolean values for the operator and what it evaluate ).\n",
    "X        Y      Not X     X AND Y    X OR Y\n",
    "True\tTrue\tFalse\tTrue        True\n",
    "True\tFalse\tFalse\tFalse       True\n",
    "False\tTrue\tTrue\tFalse       True\n",
    "False\tFalse\tTrue\tFalse       False\n"
   ]
  },
  {
   "cell_type": "raw",
   "id": "79ead3ee",
   "metadata": {},
   "source": [
    "4. What are the values of the following expressions?\n",
    "(5 > 4) and (3 == 5)\n",
    "Ans:False\n",
    "not (5 > 4)\n",
    "Ans:False\n",
    "(5 > 4) or (3 == 5)\n",
    "Ans:True\n",
    "not ((5 > 4) or (3 == 5))\n",
    "Ans:False\n",
    "(True and True) and (True == False)\n",
    "Ans:False\n",
    "(not False) or (not True)\n",
    "Ans:True\n",
    "\n"
   ]
  },
  {
   "cell_type": "raw",
   "id": "260fafa2",
   "metadata": {},
   "source": [
    "5. What are the six comparison operators?\n",
    "There are six main comparison operators: \n",
    "equal to  ==\n",
    " not equal to !=\n",
    " greater than >\n",
    " greater than or equal to>=\n",
    " less than <\n",
    " less than or equal to<=\n"
   ]
  },
  {
   "cell_type": "raw",
   "id": "875f192d",
   "metadata": {},
   "source": [
    "6. How do you tell the difference between the equal to and assignment operators?Describe a condition and when you would use one.\n",
    "The “=” is an assignment operator is used to assign the value on the right to the variable on the left. The equal to ('==')operator checks whether the two given operands are equal or not. If so, it returns true. Otherwise it returns false\n"
   ]
  },
  {
   "cell_type": "raw",
   "id": "89e7181d",
   "metadata": {},
   "source": [
    "7. Identify the three blocks in this code:\n",
    "spam = 0\n",
    "if spam == 10:\n",
    "print('eggs') //block 1\n",
    "if spam > 5:\n",
    "print('bacon') //block 2\n",
    "else:\n",
    "print('ham') //block 3\n",
    "print('spam')\n",
    "print('spam')\n"
   ]
  },
  {
   "cell_type": "raw",
   "id": "9a593844",
   "metadata": {},
   "source": [
    "8. Write code that prints Hello if 1 is stored in spam, prints Howdy if 2 is stored in spam, and prints Greetings! if anything else is stored in spam.\n",
    "if spam == 1:\n",
    "    print('Hello')\n",
    "elif spam == 2:\n",
    "    print('Howdy')\n",
    "else:\n",
    "    print('Greetings!')\n"
   ]
  },
  {
   "cell_type": "raw",
   "id": "31e11c45",
   "metadata": {},
   "source": [
    "9. If your programme is stuck in an endless loop, what keys you’ll press?\n",
    "      Press CTRL-C \n"
   ]
  },
  {
   "cell_type": "raw",
   "id": "8183b235",
   "metadata": {},
   "source": [
    "10. How can you tell the difference between break and continue?\n",
    "The break statement terminates the loop containing it. Control of the program flows to the statement immediately after the body of the loop\n",
    "The continue statement is used to skip the rest of the code inside a loop for the current iteration only. Loop does not terminate but continues on with the next iteration.\n"
   ]
  },
  {
   "cell_type": "raw",
   "id": "815c1526",
   "metadata": {},
   "source": [
    "11. In a for loop, what is the difference between range(10), range(0, 10), and range(0, 10, 1)?\n",
    "       range(10)- call ranges from 0 up to (but not including) 10\n",
    "       range(0, 10) -explicitly tells the loop to start at 0\n",
    "      range(0, 10, 1) -explicitly tells the loop to increase the variable by 1 on each iteration\n"
   ]
  },
  {
   "cell_type": "raw",
   "id": "71feaca6",
   "metadata": {},
   "source": [
    "12. Write a short program that prints the numbers 1 to 10 using a for loop. Then write an equivalent program that prints the numbers 1 to 10 using a while loop.\n",
    "\n",
    "\n"
   ]
  },
  {
   "cell_type": "code",
   "execution_count": 3,
   "id": "7395da04",
   "metadata": {},
   "outputs": [
    {
     "name": "stdout",
     "output_type": "stream",
     "text": [
      "For Loop\n",
      "1\n",
      "2\n",
      "3\n",
      "4\n",
      "5\n",
      "6\n",
      "7\n",
      "8\n",
      "9\n",
      "10\n",
      "While loop\n",
      "1\n",
      "2\n",
      "3\n",
      "4\n",
      "5\n",
      "6\n",
      "7\n",
      "8\n",
      "9\n",
      "10\n"
     ]
    }
   ],
   "source": [
    "print('For Loop')\n",
    "for i in range(1, 11):\n",
    "    print(i)\n",
    "print('While loop')\n",
    "i = 1\n",
    "while i <= 10:\n",
    "    print(i)\n",
    "    i = i + 1"
   ]
  },
  {
   "cell_type": "raw",
   "id": "d8f7aef5",
   "metadata": {},
   "source": [
    "13. If you had a function named bacon() inside a module named spam, how would you call it after importing spam?\n",
    "Spam.bacon()\n"
   ]
  }
 ],
 "metadata": {
  "kernelspec": {
   "display_name": "Python 3",
   "language": "python",
   "name": "python3"
  },
  "language_info": {
   "codemirror_mode": {
    "name": "ipython",
    "version": 3
   },
   "file_extension": ".py",
   "mimetype": "text/x-python",
   "name": "python",
   "nbconvert_exporter": "python",
   "pygments_lexer": "ipython3",
   "version": "3.8.8"
  }
 },
 "nbformat": 4,
 "nbformat_minor": 5
}
