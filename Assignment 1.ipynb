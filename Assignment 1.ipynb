{
 "cells": [
  {
   "cell_type": "raw",
   "id": "297ca9b0",
   "metadata": {},
   "source": [
    "1. In the below elements which of them are values or an expression? eg:- values can be integer or string and expressions will be mathematical operators.\n",
    "        *  - Expressions\n",
    "        'hello'- string\n",
    "        -87.8- Interger\n",
    "        -  Expressions\n",
    "        / - Expressions\n",
    "        +- Expressions\n",
    "        6 – Interger\n",
    "\n"
   ]
  },
  {
   "cell_type": "raw",
   "id": "b2133c82",
   "metadata": {},
   "source": [
    "2. What is the difference between string and variable?\n",
    "    \n",
    "    Variable is something that holds a value  that may change.\n",
    "    String is a datatype that used to represent text.\n"
   ]
  },
  {
   "cell_type": "raw",
   "id": "4bce264a",
   "metadata": {},
   "source": [
    "3. Describe three different data types.\n",
    "    Interger,String,Float\n",
    "\n",
    "   "
   ]
  },
  {
   "cell_type": "raw",
   "id": "fa2c1e0c",
   "metadata": {},
   "source": [
    "4. What is an expression made up of? What do all expressions do?\n",
    " An Expression is combination of values, variables, operators and call of functions. An expression is an instruction that combines values and operators and always evaluates down to a single value\n"
   ]
  },
  {
   "cell_type": "raw",
   "id": "15519410",
   "metadata": {},
   "source": [
    "5. This assignment statements, like spam = 10. What is the difference between an expression and a statement?\n",
    "Statements represent an action or command e.g print statements, assignment statements. Expression is a combination of variables, operations and values that yields a result value. An expression is something that can be reduced to a value, for example \"1+9\" or \"a = 1+9\"\n"
   ]
  },
  {
   "cell_type": "raw",
   "id": "fe21ea52",
   "metadata": {},
   "source": [
    "6. After running the following code, what does the variable bacon contain?\n",
    "bacon = 22\n",
    "bacon + 1\n",
    "        Ans:22\n",
    "\n"
   ]
  },
  {
   "cell_type": "raw",
   "id": "40cbd411",
   "metadata": {},
   "source": [
    "7. What should the values of the following two terms be?\n",
    "'spam' + 'spamspam'\n",
    "'spam' * 3\n",
    "      Ans: spamspamspam\n",
    "           spamspamspam\n",
    "\n"
   ]
  },
  {
   "cell_type": "raw",
   "id": "b2350185",
   "metadata": {},
   "source": [
    "8. Why is eggs a valid variable name while 100 is invalid?\n",
    "        Because variable names cannot begin with a number.\n"
   ]
  },
  {
   "cell_type": "raw",
   "id": "f6ba86e9",
   "metadata": {},
   "source": [
    "9. What three functions can be used to get the integer, floating-point number, or string version of a value?\n",
    "    The int() , float() , and str( ) functions will evaluate to the integer, floating-point number, and string versions of the value passed to them.\n"
   ]
  },
  {
   "cell_type": "raw",
   "id": "9e62d23a",
   "metadata": {},
   "source": [
    "10. Why does this expression cause an error? How can you fix it?\n",
    "      'I have eaten ' + 99 + ' burritos.'\n",
    "The expression causes an error because 99 is an integer, and only strings can be concatenated to other strings with the + operator. The correct way is I have eaten ' + str(99) + ' burritos.\n"
   ]
  }
 ],
 "metadata": {
  "kernelspec": {
   "display_name": "Python 3",
   "language": "python",
   "name": "python3"
  },
  "language_info": {
   "codemirror_mode": {
    "name": "ipython",
    "version": 3
   },
   "file_extension": ".py",
   "mimetype": "text/x-python",
   "name": "python",
   "nbconvert_exporter": "python",
   "pygments_lexer": "ipython3",
   "version": "3.8.8"
  }
 },
 "nbformat": 4,
 "nbformat_minor": 5
}
